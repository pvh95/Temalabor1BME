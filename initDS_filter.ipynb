{
  "nbformat": 4,
  "nbformat_minor": 0,
  "metadata": {
    "colab": {
      "name": "initDS_filter.ipynb",
      "provenance": [],
      "collapsed_sections": []
    },
    "kernelspec": {
      "name": "python3",
      "display_name": "Python 3"
    }
  },
  "cells": [
    {
      "cell_type": "code",
      "metadata": {
        "id": "xOqPuIOkTV9Z"
      },
      "source": [
        "#import pandas \n",
        "import pandas as pd "
      ],
      "execution_count": 1,
      "outputs": []
    },
    {
      "cell_type": "code",
      "metadata": {
        "colab": {
          "base_uri": "https://localhost:8080/"
        },
        "id": "k_cXyCxYT5rV",
        "outputId": "5a195ce7-ec6c-460e-c7cf-2129305fa72c"
      },
      "source": [
        "from google.colab import files\n",
        "from google.colab import drive \n",
        "drive.mount('/content/gdrive')"
      ],
      "execution_count": 2,
      "outputs": [
        {
          "output_type": "stream",
          "text": [
            "Mounted at /content/gdrive\n"
          ],
          "name": "stdout"
        }
      ]
    },
    {
      "cell_type": "code",
      "metadata": {
        "id": "AMoG54-zT846"
      },
      "source": [
        "#Loading data set needed to be appended with column header \n",
        "\n",
        "datatype_orig = pd.read_csv('gdrive/My Drive/Temalabor1BME/dataset/datatype_orig.csv', \n",
        "                            sep = ',', names = ['datatypeid', 'kshkod', 'label', 'measureunit', \n",
        "                                                'periodicity', 'note_hun', 'referencetime', 'validity', \n",
        "                                                'reference', 'source', 'leafornot', 'parentid', 'label_hun2007', \n",
        "                                                'mtaktid', 'admin_hun', 'max', 'min', 'avg', 'conceptid'], dtype = str)\n",
        "\n",
        "export = pd.read_csv('gdrive/My Drive/Temalabor1BME/dataset/export_orig.csv', \n",
        "                          sep = ',', names = ['year', 'value', 'geonameid', 'datatypeid'], dtype = str)"
      ],
      "execution_count": 3,
      "outputs": []
    },
    {
      "cell_type": "code",
      "metadata": {
        "id": "VCK5m_lVUjCX"
      },
      "source": [
        "# From datatype_orig, keep datatypeid, kshkod, label, parentid columns \n",
        "\n",
        "datatype = datatype_orig[['datatypeid', 'kshkod', 'label', 'parentid']]"
      ],
      "execution_count": 4,
      "outputs": []
    },
    {
      "cell_type": "code",
      "metadata": {
        "id": "6fNczMdDVB68"
      },
      "source": [
        "# Writing out modified dataset to csv \n",
        "\n",
        "datatype.to_csv('gdrive/My Drive/Temalabor1BME/dataset/datatype.csv')\n",
        "export.to_csv('gdrive/My Drive/Temalabor1BME/dataset/export.csv')"
      ],
      "execution_count": 5,
      "outputs": []
    },
    {
      "cell_type": "code",
      "metadata": {
        "id": "8DRwqBOuVJ6A"
      },
      "source": [
        ""
      ],
      "execution_count": null,
      "outputs": []
    }
  ]
}